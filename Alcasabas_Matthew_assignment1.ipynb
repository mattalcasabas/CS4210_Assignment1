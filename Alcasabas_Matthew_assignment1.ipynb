{
  "cells": [
    {
      "cell_type": "markdown",
      "metadata": {
        "deletable": true,
        "editable": true,
        "id": "m_R4z-lmbSjo"
      },
      "source": [
        "<h2>Assignment 1 - Linear Regression on Diabetes Dataset</h2>"
      ]
    },
    {
      "cell_type": "code",
      "execution_count": null,
      "metadata": {
        "deletable": true,
        "editable": true,
        "id": "WJ3cJxt3bSjp"
      },
      "outputs": [],
      "source": [
        "# The modules we're going to use\n",
        "from __future__ import print_function\n",
        "from sklearn import preprocessing\n",
        "from sklearn.model_selection import train_test_split\n",
        "from sklearn import datasets, linear_model\n",
        "from scipy import linalg\n",
        "import numpy as np\n",
        "import matplotlib.pyplot as plt\n",
        "\n",
        "# When you execute a code to plot with a simple SHIFT-ENTER, the plot will be shown directly under the code cell\n",
        "%matplotlib inline\n",
        "\n",
        "# Reference: http://www4.stat.ncsu.edu/~boos/var.select/diabetes.html\n",
        "# Load data from scikit-learn\n",
        "diabetes = datasets.load_diabetes()\n",
        "data = diabetes.data\n",
        "target = diabetes.target"
      ]
    },
    {
      "cell_type": "markdown",
      "source": [
        "<h4>Task  1: Prepare the 3 datasets</h4>"
      ],
      "metadata": {
        "id": "k2Yz_qbJFq2R"
      }
    },
    {
      "cell_type": "code",
      "source": [
        "# please implement your code for task 1 here"
      ],
      "metadata": {
        "id": "gMZyzksaFrF-"
      },
      "execution_count": null,
      "outputs": []
    },
    {
      "cell_type": "markdown",
      "metadata": {
        "deletable": true,
        "editable": true,
        "id": "NA3ezrA-bSjt"
      },
      "source": [
        "<h4>Task 2: Use linear regression from scikit-learn in the following cell, for comparsion of results with basic gradient method and stochastic gradient descent method</h4>\n",
        "\n",
        "Note: linear regression from scikit-learn uses the closed-form solution of the optimal solution."
      ]
    },
    {
      "cell_type": "code",
      "execution_count": null,
      "metadata": {
        "deletable": true,
        "editable": true,
        "id": "hlqomvfpbSjt"
      },
      "outputs": [],
      "source": [
        "# please implement your code for task 2 here"
      ]
    },
    {
      "cell_type": "markdown",
      "source": [
        "<h4> Task 3: Use basic gradient descent to perform linear regression in the following cell</h4>\n",
        "\n",
        "Note: Basic gradient descent method computes the gradient using whole training data examples in each iteration."
      ],
      "metadata": {
        "id": "DKtD7HDA8ga-"
      }
    },
    {
      "cell_type": "code",
      "source": [
        "# you may use the following hyperparameters and experiment with various values for them\n",
        "learning_rate = 0.01   # learning rate\n",
        "numItrs = 1000   # number of iterations\n",
        "\n",
        "# please implement your code for task 3 here"
      ],
      "metadata": {
        "id": "3Jm1OxLY8v2V"
      },
      "execution_count": null,
      "outputs": []
    },
    {
      "cell_type": "markdown",
      "metadata": {
        "id": "Rx1UOqmfcNe0"
      },
      "source": [
        "<h4> Task 4: Use stochastic gradient descent to perform linear regression in the following cell</h4>\n",
        "\n",
        "Note:\n",
        "* Stochastic gradient descent method computes the gradient using only a small **batch** of data examples in each iteration.\n",
        "* Difference between iterations and epochs\n",
        "> One **iteration** entails the processing of one batch of data, while one epoch entails the processing of the whole training data.\n",
        "\n",
        "\n"
      ]
    },
    {
      "cell_type": "code",
      "execution_count": null,
      "metadata": {
        "id": "96_WVyVKcNss"
      },
      "outputs": [],
      "source": [
        "# you may use the following hyperparameters and experiment with various values for them\n",
        "learning_rate = 0.01   # learning rate\n",
        "batch_size = 32 # number of data samples in a batch\n",
        "epochs = 100   # number of epochs\n",
        "\n",
        "# please implement your code for task 4 here"
      ]
    }
  ],
  "metadata": {
    "colab": {
      "provenance": []
    },
    "kernelspec": {
      "display_name": "Python 3 (ipykernel)",
      "language": "python",
      "name": "python3"
    },
    "language_info": {
      "codemirror_mode": {
        "name": "ipython",
        "version": 3
      },
      "file_extension": ".py",
      "mimetype": "text/x-python",
      "name": "python",
      "nbconvert_exporter": "python",
      "pygments_lexer": "ipython3",
      "version": "3.10.11"
    }
  },
  "nbformat": 4,
  "nbformat_minor": 0
}